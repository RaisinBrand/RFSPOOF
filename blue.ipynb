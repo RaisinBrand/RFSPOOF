{
 "cells": [
  {
   "cell_type": "code",
   "execution_count": 6,
   "id": "eef4b2b0-696e-4430-b9a5-247ba4a1cf01",
   "metadata": {},
   "outputs": [],
   "source": [
    "import matplotlib.pyplot as plt\n",
    "import numpy as np\n",
    "import os\n",
    "import glob\n",
    "\n",
    "window_size = 20000\n",
    "hop_size = 1\n",
    "threshold_ratio = 0.75\n",
    "sample_rate = 2e6  # 2 MHz\n",
    "\n",
    "def load_iq_file(filepath):\n",
    "    raw = np.fromfile(filepath, dtype=np.float32)\n",
    "    iqdata = raw[::2] + 1j * raw[1::2]\n",
    "    return iqdata\n",
    "\n",
    "def detect_bluetooth_transmissions(iq_data):\n",
    "    magnitudes = np.abs(iq_data)\n",
    "\n",
    "    if len(magnitudes) < window_size:\n",
    "        return []\n",
    "    \n",
    "    num_windows = (len(magnitudes) - window_size) // hop_size + 1\n",
    "    avg_mags = np.array([\n",
    "        np.mean(magnitudes[i * hop_size : i * hop_size + window_size])\n",
    "        for i in range(num_windows)\n",
    "    ])\n",
    "\n",
    "    threshold = threshold_ratio * np.max(avg_mags)\n",
    "\n",
    "    transmission_flags = avg_mags > threshold\n",
    "    transmission_windows = []\n",
    "    for i, flag in enumerate(transmission_flags):\n",
    "        if flag:\n",
    "            start = i * hop_size\n",
    "            end = start + window_size\n",
    "            transmission_windows.append((start, end))\n",
    "\n",
    "    return transmission_windows\n",
    "\n",
    "def merge_transmission_windows(windows):\n",
    "    if not windows:\n",
    "        return []\n",
    "\n",
    "    merged = [windows[0]]\n",
    "    for start, end in windows[1:]:\n",
    "        prev_start, prev_end = merged[-1]\n",
    "        if start <= prev_end: \n",
    "            merged[-1] = (prev_start, max(prev_end, end))\n",
    "        else:\n",
    "            merged.append((start, end))\n",
    "    return merged\n",
    "\n",
    "def index_to_time(index):\n",
    "    return index / sample_rate\n",
    "\n",
    "def main():\n",
    "    input_folder = \"/home/jfeng/Desktop/jfeng/rf_spoofing/spoofing/1m_2m_replacedPluto4/Pluto_10_windows_runs2_3/\"\n",
    "    output_folder = \"/data2/brandan/RFSPOOF/nrf_out\"\n",
    "    os.makedirs(output_folder, exist_ok=True)\n",
    "\n",
    "    iq_files = sorted(glob.glob(os.path.join(input_folder, \"*.iq\")))\n",
    "\n",
    "    for i, filepath in enumerate(iq_files, start=1):\n",
    "        output_file = os.path.join(output_folder, f\"bt{i}.txt\")\n",
    "\n",
    "        iq_data = load_iq_file(filepath)\n",
    "        transmission_windows = detect_bluetooth_transmissions(iq_data)\n",
    "        merged_windows = merge_transmission_windows(transmission_windows)\n",
    "\n",
    "        with open(output_file, \"w\") as f:\n",
    "            for start, end in merged_windows:\n",
    "                start_time = index_to_time(start)\n",
    "                end_time = index_to_time(end)\n",
    "                print(f\"processed {filepath}\")\n",
    "                f.write(f\"{start_time:.6f},{end_time:.6f}\\n\")\n",
    "        print(\"hi\") \n",
    "        break\n",
    "\n"
   ]
  },
  {
   "cell_type": "code",
   "execution_count": 7,
   "id": "b7b9ee0b-1bbb-40f4-8c01-f462b3e0abae",
   "metadata": {},
   "outputs": [
    {
     "ename": "KeyboardInterrupt",
     "evalue": "",
     "output_type": "error",
     "traceback": [
      "\u001b[0;31m---------------------------------------------------------------------------\u001b[0m",
      "\u001b[0;31mKeyboardInterrupt\u001b[0m                         Traceback (most recent call last)",
      "Cell \u001b[0;32mIn[7], line 1\u001b[0m\n\u001b[0;32m----> 1\u001b[0m \u001b[43mmain\u001b[49m\u001b[43m(\u001b[49m\u001b[43m)\u001b[49m\n",
      "Cell \u001b[0;32mIn[6], line 67\u001b[0m, in \u001b[0;36mmain\u001b[0;34m()\u001b[0m\n\u001b[1;32m     64\u001b[0m output_file \u001b[38;5;241m=\u001b[39m os\u001b[38;5;241m.\u001b[39mpath\u001b[38;5;241m.\u001b[39mjoin(output_folder, \u001b[38;5;124mf\u001b[39m\u001b[38;5;124m\"\u001b[39m\u001b[38;5;124mbt\u001b[39m\u001b[38;5;132;01m{\u001b[39;00mi\u001b[38;5;132;01m}\u001b[39;00m\u001b[38;5;124m.txt\u001b[39m\u001b[38;5;124m\"\u001b[39m)\n\u001b[1;32m     66\u001b[0m iq_data \u001b[38;5;241m=\u001b[39m load_iq_file(filepath)\n\u001b[0;32m---> 67\u001b[0m transmission_windows \u001b[38;5;241m=\u001b[39m \u001b[43mdetect_bluetooth_transmissions\u001b[49m\u001b[43m(\u001b[49m\u001b[43miq_data\u001b[49m\u001b[43m)\u001b[49m\n\u001b[1;32m     68\u001b[0m merged_windows \u001b[38;5;241m=\u001b[39m merge_transmission_windows(transmission_windows)\n\u001b[1;32m     70\u001b[0m \u001b[38;5;28;01mwith\u001b[39;00m \u001b[38;5;28mopen\u001b[39m(output_file, \u001b[38;5;124m\"\u001b[39m\u001b[38;5;124mw\u001b[39m\u001b[38;5;124m\"\u001b[39m) \u001b[38;5;28;01mas\u001b[39;00m f:\n",
      "Cell \u001b[0;32mIn[6], line 23\u001b[0m, in \u001b[0;36mdetect_bluetooth_transmissions\u001b[0;34m(iq_data)\u001b[0m\n\u001b[1;32m     20\u001b[0m     \u001b[38;5;28;01mreturn\u001b[39;00m []\n\u001b[1;32m     22\u001b[0m num_windows \u001b[38;5;241m=\u001b[39m (\u001b[38;5;28mlen\u001b[39m(magnitudes) \u001b[38;5;241m-\u001b[39m window_size) \u001b[38;5;241m/\u001b[39m\u001b[38;5;241m/\u001b[39m hop_size \u001b[38;5;241m+\u001b[39m \u001b[38;5;241m1\u001b[39m\n\u001b[0;32m---> 23\u001b[0m avg_mags \u001b[38;5;241m=\u001b[39m np\u001b[38;5;241m.\u001b[39marray(\u001b[43m[\u001b[49m\n\u001b[1;32m     24\u001b[0m \u001b[43m    \u001b[49m\u001b[43mnp\u001b[49m\u001b[38;5;241;43m.\u001b[39;49m\u001b[43mmean\u001b[49m\u001b[43m(\u001b[49m\u001b[43mmagnitudes\u001b[49m\u001b[43m[\u001b[49m\u001b[43mi\u001b[49m\u001b[43m \u001b[49m\u001b[38;5;241;43m*\u001b[39;49m\u001b[43m \u001b[49m\u001b[43mhop_size\u001b[49m\u001b[43m \u001b[49m\u001b[43m:\u001b[49m\u001b[43m \u001b[49m\u001b[43mi\u001b[49m\u001b[43m \u001b[49m\u001b[38;5;241;43m*\u001b[39;49m\u001b[43m \u001b[49m\u001b[43mhop_size\u001b[49m\u001b[43m \u001b[49m\u001b[38;5;241;43m+\u001b[39;49m\u001b[43m \u001b[49m\u001b[43mwindow_size\u001b[49m\u001b[43m]\u001b[49m\u001b[43m)\u001b[49m\n\u001b[1;32m     25\u001b[0m \u001b[43m    \u001b[49m\u001b[38;5;28;43;01mfor\u001b[39;49;00m\u001b[43m \u001b[49m\u001b[43mi\u001b[49m\u001b[43m \u001b[49m\u001b[38;5;129;43;01min\u001b[39;49;00m\u001b[43m \u001b[49m\u001b[38;5;28;43mrange\u001b[39;49m\u001b[43m(\u001b[49m\u001b[43mnum_windows\u001b[49m\u001b[43m)\u001b[49m\n\u001b[1;32m     26\u001b[0m \u001b[43m\u001b[49m\u001b[43m]\u001b[49m)\n\u001b[1;32m     28\u001b[0m threshold \u001b[38;5;241m=\u001b[39m threshold_ratio \u001b[38;5;241m*\u001b[39m np\u001b[38;5;241m.\u001b[39mmax(avg_mags)\n\u001b[1;32m     30\u001b[0m transmission_flags \u001b[38;5;241m=\u001b[39m avg_mags \u001b[38;5;241m>\u001b[39m threshold\n",
      "Cell \u001b[0;32mIn[6], line 24\u001b[0m, in \u001b[0;36m<listcomp>\u001b[0;34m(.0)\u001b[0m\n\u001b[1;32m     20\u001b[0m     \u001b[38;5;28;01mreturn\u001b[39;00m []\n\u001b[1;32m     22\u001b[0m num_windows \u001b[38;5;241m=\u001b[39m (\u001b[38;5;28mlen\u001b[39m(magnitudes) \u001b[38;5;241m-\u001b[39m window_size) \u001b[38;5;241m/\u001b[39m\u001b[38;5;241m/\u001b[39m hop_size \u001b[38;5;241m+\u001b[39m \u001b[38;5;241m1\u001b[39m\n\u001b[1;32m     23\u001b[0m avg_mags \u001b[38;5;241m=\u001b[39m np\u001b[38;5;241m.\u001b[39marray([\n\u001b[0;32m---> 24\u001b[0m     \u001b[43mnp\u001b[49m\u001b[38;5;241;43m.\u001b[39;49m\u001b[43mmean\u001b[49m\u001b[43m(\u001b[49m\u001b[43mmagnitudes\u001b[49m\u001b[43m[\u001b[49m\u001b[43mi\u001b[49m\u001b[43m \u001b[49m\u001b[38;5;241;43m*\u001b[39;49m\u001b[43m \u001b[49m\u001b[43mhop_size\u001b[49m\u001b[43m \u001b[49m\u001b[43m:\u001b[49m\u001b[43m \u001b[49m\u001b[43mi\u001b[49m\u001b[43m \u001b[49m\u001b[38;5;241;43m*\u001b[39;49m\u001b[43m \u001b[49m\u001b[43mhop_size\u001b[49m\u001b[43m \u001b[49m\u001b[38;5;241;43m+\u001b[39;49m\u001b[43m \u001b[49m\u001b[43mwindow_size\u001b[49m\u001b[43m]\u001b[49m\u001b[43m)\u001b[49m\n\u001b[1;32m     25\u001b[0m     \u001b[38;5;28;01mfor\u001b[39;00m i \u001b[38;5;129;01min\u001b[39;00m \u001b[38;5;28mrange\u001b[39m(num_windows)\n\u001b[1;32m     26\u001b[0m ])\n\u001b[1;32m     28\u001b[0m threshold \u001b[38;5;241m=\u001b[39m threshold_ratio \u001b[38;5;241m*\u001b[39m np\u001b[38;5;241m.\u001b[39mmax(avg_mags)\n\u001b[1;32m     30\u001b[0m transmission_flags \u001b[38;5;241m=\u001b[39m avg_mags \u001b[38;5;241m>\u001b[39m threshold\n",
      "File \u001b[0;32m~/miniconda3/envs/new3d/lib/python3.11/site-packages/numpy/core/fromnumeric.py:3504\u001b[0m, in \u001b[0;36mmean\u001b[0;34m(a, axis, dtype, out, keepdims, where)\u001b[0m\n\u001b[1;32m   3501\u001b[0m     \u001b[38;5;28;01melse\u001b[39;00m:\n\u001b[1;32m   3502\u001b[0m         \u001b[38;5;28;01mreturn\u001b[39;00m mean(axis\u001b[38;5;241m=\u001b[39maxis, dtype\u001b[38;5;241m=\u001b[39mdtype, out\u001b[38;5;241m=\u001b[39mout, \u001b[38;5;241m*\u001b[39m\u001b[38;5;241m*\u001b[39mkwargs)\n\u001b[0;32m-> 3504\u001b[0m \u001b[38;5;28;01mreturn\u001b[39;00m \u001b[43m_methods\u001b[49m\u001b[38;5;241;43m.\u001b[39;49m\u001b[43m_mean\u001b[49m\u001b[43m(\u001b[49m\u001b[43ma\u001b[49m\u001b[43m,\u001b[49m\u001b[43m \u001b[49m\u001b[43maxis\u001b[49m\u001b[38;5;241;43m=\u001b[39;49m\u001b[43maxis\u001b[49m\u001b[43m,\u001b[49m\u001b[43m \u001b[49m\u001b[43mdtype\u001b[49m\u001b[38;5;241;43m=\u001b[39;49m\u001b[43mdtype\u001b[49m\u001b[43m,\u001b[49m\n\u001b[1;32m   3505\u001b[0m \u001b[43m                      \u001b[49m\u001b[43mout\u001b[49m\u001b[38;5;241;43m=\u001b[39;49m\u001b[43mout\u001b[49m\u001b[43m,\u001b[49m\u001b[43m \u001b[49m\u001b[38;5;241;43m*\u001b[39;49m\u001b[38;5;241;43m*\u001b[39;49m\u001b[43mkwargs\u001b[49m\u001b[43m)\u001b[49m\n",
      "File \u001b[0;32m~/miniconda3/envs/new3d/lib/python3.11/site-packages/numpy/core/_methods.py:129\u001b[0m, in \u001b[0;36m_mean\u001b[0;34m(a, axis, dtype, out, keepdims, where)\u001b[0m\n\u001b[1;32m    127\u001b[0m         ret \u001b[38;5;241m=\u001b[39m arr\u001b[38;5;241m.\u001b[39mdtype\u001b[38;5;241m.\u001b[39mtype(ret \u001b[38;5;241m/\u001b[39m rcount)\n\u001b[1;32m    128\u001b[0m     \u001b[38;5;28;01melse\u001b[39;00m:\n\u001b[0;32m--> 129\u001b[0m         ret \u001b[38;5;241m=\u001b[39m \u001b[43mret\u001b[49m\u001b[38;5;241;43m.\u001b[39;49m\u001b[43mdtype\u001b[49m\u001b[38;5;241;43m.\u001b[39;49m\u001b[43mtype\u001b[49m\u001b[43m(\u001b[49m\u001b[43mret\u001b[49m\u001b[43m \u001b[49m\u001b[38;5;241;43m/\u001b[39;49m\u001b[43m \u001b[49m\u001b[43mrcount\u001b[49m\u001b[43m)\u001b[49m\n\u001b[1;32m    130\u001b[0m \u001b[38;5;28;01melse\u001b[39;00m:\n\u001b[1;32m    131\u001b[0m     ret \u001b[38;5;241m=\u001b[39m ret \u001b[38;5;241m/\u001b[39m rcount\n",
      "\u001b[0;31mKeyboardInterrupt\u001b[0m: "
     ]
    }
   ],
   "source": [
    "main()"
   ]
  },
  {
   "cell_type": "code",
   "execution_count": null,
   "id": "20695430-d0f2-432c-a43a-d5e2c98a180a",
   "metadata": {},
   "outputs": [],
   "source": []
  },
  {
   "cell_type": "code",
   "execution_count": null,
   "id": "d869b541-00e1-4100-b0e6-7cc69bbc233c",
   "metadata": {},
   "outputs": [],
   "source": []
  }
 ],
 "metadata": {
  "kernelspec": {
   "display_name": "Python 3 (ipykernel)",
   "language": "python",
   "name": "python3"
  },
  "language_info": {
   "codemirror_mode": {
    "name": "ipython",
    "version": 3
   },
   "file_extension": ".py",
   "mimetype": "text/x-python",
   "name": "python",
   "nbconvert_exporter": "python",
   "pygments_lexer": "ipython3",
   "version": "3.11.8"
  }
 },
 "nbformat": 4,
 "nbformat_minor": 5
}
